{
 "cells": [
  {
   "cell_type": "markdown",
   "id": "8369455c-26b8-4eb5-9c86-0da7ee5aa941",
   "metadata": {},
   "source": [
    "# MCP Evaluation Paper Version"
   ]
  },
  {
   "cell_type": "code",
   "execution_count": 21,
   "id": "0db9acdf-223d-42b3-81e0-297c3b0bd023",
   "metadata": {},
   "outputs": [],
   "source": [
    "import requests\n",
    "import pandas as pd\n",
    "import seaborn as sns"
   ]
  },
  {
   "cell_type": "markdown",
   "id": "826c8e90-1dc5-4cf4-b23a-ab8ed76f1497",
   "metadata": {},
   "source": [
    "## Simple Question: Number of characters"
   ]
  },
  {
   "cell_type": "markdown",
   "id": "224b04c0-4cef-4b6b-b20b-f9e9d18e3cdb",
   "metadata": {},
   "source": [
    "### Scope: Play"
   ]
  },
  {
   "cell_type": "markdown",
   "id": "7a777369-139f-498a-aca2-f93a4d4e1747",
   "metadata": {},
   "source": [
    "#### What is the number of characters in Dantons Tod?\n",
    "Other formulations:\n",
    "* What is the number of dramatis personae in Dantons Tod?\n",
    "* What is the number of characters in Dantons Tod in GerDraCor?\n",
    "* What is the number of characters in Dantons Tod (buechner-dantons-tod) in GerDraCor?"
   ]
  },
  {
   "cell_type": "code",
   "execution_count": 11,
   "id": "f1439436-31e5-4d37-91e6-ae7541f3e74c",
   "metadata": {},
   "outputs": [],
   "source": [
    "def get_corpus_metadata_df(corpus):\n",
    "    metadata_url = f\"https://dracor.org/api/v1/corpora/{corpus}/metadata\"\n",
    "    response = requests.get(metadata_url)\n",
    "    metadata_df = pd.DataFrame(response.json())\n",
    "    return metadata_df"
   ]
  },
  {
   "cell_type": "code",
   "execution_count": 12,
   "id": "5202f243-a676-4581-9e40-8bd19804cb7d",
   "metadata": {},
   "outputs": [],
   "source": [
    "ger_df = get_corpus_metadata_df(\"ger\")"
   ]
  },
  {
   "cell_type": "code",
   "execution_count": 13,
   "id": "5827aeda-6f71-44e8-ae58-553b4eef44c5",
   "metadata": {},
   "outputs": [
    {
     "data": {
      "text/plain": [
       "101    103\n",
       "Name: numOfSpeakers, dtype: int64"
      ]
     },
     "execution_count": 13,
     "metadata": {},
     "output_type": "execute_result"
    }
   ],
   "source": [
    "ger_df[ger_df.name == \"buechner-dantons-tod\"].numOfSpeakers"
   ]
  },
  {
   "cell_type": "markdown",
   "id": "ae8e209d-c6c6-4ca2-93a1-0093388a2b89",
   "metadata": {},
   "source": [
    "#### What is the number of characters in Der Nollhart?\n"
   ]
  },
  {
   "cell_type": "code",
   "execution_count": 14,
   "id": "8cbcd5e9-3d24-4c83-91b8-8b56f389aa81",
   "metadata": {},
   "outputs": [
    {
     "data": {
      "text/plain": [
       "175    14\n",
       "Name: numOfSpeakers, dtype: int64"
      ]
     },
     "execution_count": 14,
     "metadata": {},
     "output_type": "execute_result"
    }
   ],
   "source": [
    "ger_df[ger_df.name == \"gengenbach-der-nollhart\"].numOfSpeakers"
   ]
  },
  {
   "cell_type": "markdown",
   "id": "b3e1a32f-4239-4b0a-89cb-002e59699aa1",
   "metadata": {},
   "source": [
    "### Scope: Corpus "
   ]
  },
  {
   "cell_type": "markdown",
   "id": "2bd048ad-a4db-4c8e-ba50-f7913de662b2",
   "metadata": {},
   "source": [
    "#### What is the mean number of characters in French Drama?\n",
    "\n"
   ]
  },
  {
   "cell_type": "code",
   "execution_count": 15,
   "id": "5b10ae30-22fa-4ff1-bc06-f0274742af25",
   "metadata": {},
   "outputs": [],
   "source": [
    "fre_df = get_corpus_metadata_df(\"fre\")"
   ]
  },
  {
   "cell_type": "code",
   "execution_count": 16,
   "id": "500f347d-c3dc-4219-b378-d366ee555f02",
   "metadata": {},
   "outputs": [
    {
     "data": {
      "text/plain": [
       "np.float64(9.195876288659793)"
      ]
     },
     "execution_count": 16,
     "metadata": {},
     "output_type": "execute_result"
    }
   ],
   "source": [
    "fre_df.numOfSpeakers.mean()"
   ]
  },
  {
   "cell_type": "markdown",
   "id": "269c92e3-1f27-4f75-b050-7eda800d8260",
   "metadata": {},
   "source": [
    "#### Which corpus has the highest mean number of characters?\n",
    "\n"
   ]
  },
  {
   "cell_type": "code",
   "execution_count": 17,
   "id": "3d3922be-0aae-4b12-b81f-409626766bf6",
   "metadata": {},
   "outputs": [],
   "source": [
    "metadata_url = f\"https://dracor.org/api/v1/corpora?include=metrics\"\n",
    "response = requests.get(metadata_url)\n",
    "corpora_meta = response.json()"
   ]
  },
  {
   "cell_type": "code",
   "execution_count": 18,
   "id": "58044d08-d63c-47e7-9f03-04aaf20e23c9",
   "metadata": {},
   "outputs": [],
   "source": [
    "speaker_number = {\"name\": [], \"mean\": []}\n",
    "for entry in corpora_meta:\n",
    "    mean = entry[\"metrics\"][\"characters\"] / entry[\"metrics\"][\"plays\"]\n",
    "    speaker_number[\"name\"].append(entry[\"name\"])\n",
    "    speaker_number[\"mean\"].append(mean)\n",
    "\n",
    "speaker_mean_df = pd.DataFrame(speaker_number)"
   ]
  },
  {
   "cell_type": "code",
   "execution_count": 19,
   "id": "8d458985-121e-40ed-aa1d-efeaaafde8d9",
   "metadata": {},
   "outputs": [
    {
     "data": {
      "text/html": [
       "<div>\n",
       "<style scoped>\n",
       "    .dataframe tbody tr th:only-of-type {\n",
       "        vertical-align: middle;\n",
       "    }\n",
       "\n",
       "    .dataframe tbody tr th {\n",
       "        vertical-align: top;\n",
       "    }\n",
       "\n",
       "    .dataframe thead th {\n",
       "        text-align: right;\n",
       "    }\n",
       "</style>\n",
       "<table border=\"1\" class=\"dataframe\">\n",
       "  <thead>\n",
       "    <tr style=\"text-align: right;\">\n",
       "      <th></th>\n",
       "      <th>name</th>\n",
       "      <th>mean</th>\n",
       "    </tr>\n",
       "  </thead>\n",
       "  <tbody>\n",
       "    <tr>\n",
       "      <th>20</th>\n",
       "      <td>yi</td>\n",
       "      <td>7.666667</td>\n",
       "    </tr>\n",
       "    <tr>\n",
       "      <th>6</th>\n",
       "      <td>fre</td>\n",
       "      <td>9.191237</td>\n",
       "    </tr>\n",
       "    <tr>\n",
       "      <th>18</th>\n",
       "      <td>tat</td>\n",
       "      <td>10.000000</td>\n",
       "    </tr>\n",
       "    <tr>\n",
       "      <th>11</th>\n",
       "      <td>ita</td>\n",
       "      <td>11.000000</td>\n",
       "    </tr>\n",
       "    <tr>\n",
       "      <th>9</th>\n",
       "      <td>greek</td>\n",
       "      <td>11.225000</td>\n",
       "    </tr>\n",
       "    <tr>\n",
       "      <th>13</th>\n",
       "      <td>rom</td>\n",
       "      <td>11.250000</td>\n",
       "    </tr>\n",
       "    <tr>\n",
       "      <th>17</th>\n",
       "      <td>swe</td>\n",
       "      <td>11.308824</td>\n",
       "    </tr>\n",
       "    <tr>\n",
       "      <th>12</th>\n",
       "      <td>pol</td>\n",
       "      <td>11.720000</td>\n",
       "    </tr>\n",
       "    <tr>\n",
       "      <th>4</th>\n",
       "      <td>dutch</td>\n",
       "      <td>11.761111</td>\n",
       "    </tr>\n",
       "    <tr>\n",
       "      <th>0</th>\n",
       "      <td>als</td>\n",
       "      <td>12.500000</td>\n",
       "    </tr>\n",
       "    <tr>\n",
       "      <th>3</th>\n",
       "      <td>cal</td>\n",
       "      <td>16.614634</td>\n",
       "    </tr>\n",
       "    <tr>\n",
       "      <th>14</th>\n",
       "      <td>rus</td>\n",
       "      <td>17.485849</td>\n",
       "    </tr>\n",
       "    <tr>\n",
       "      <th>2</th>\n",
       "      <td>bash</td>\n",
       "      <td>18.666667</td>\n",
       "    </tr>\n",
       "    <tr>\n",
       "      <th>1</th>\n",
       "      <td>am</td>\n",
       "      <td>18.975000</td>\n",
       "    </tr>\n",
       "    <tr>\n",
       "      <th>19</th>\n",
       "      <td>u</td>\n",
       "      <td>21.500000</td>\n",
       "    </tr>\n",
       "    <tr>\n",
       "      <th>7</th>\n",
       "      <td>ger</td>\n",
       "      <td>21.592643</td>\n",
       "    </tr>\n",
       "    <tr>\n",
       "      <th>16</th>\n",
       "      <td>span</td>\n",
       "      <td>23.200000</td>\n",
       "    </tr>\n",
       "    <tr>\n",
       "      <th>10</th>\n",
       "      <td>hun</td>\n",
       "      <td>23.216216</td>\n",
       "    </tr>\n",
       "    <tr>\n",
       "      <th>5</th>\n",
       "      <td>eng</td>\n",
       "      <td>24.589862</td>\n",
       "    </tr>\n",
       "    <tr>\n",
       "      <th>15</th>\n",
       "      <td>shake</td>\n",
       "      <td>38.729730</td>\n",
       "    </tr>\n",
       "    <tr>\n",
       "      <th>8</th>\n",
       "      <td>gersh</td>\n",
       "      <td>39.394737</td>\n",
       "    </tr>\n",
       "  </tbody>\n",
       "</table>\n",
       "</div>"
      ],
      "text/plain": [
       "     name       mean\n",
       "20     yi   7.666667\n",
       "6     fre   9.191237\n",
       "18    tat  10.000000\n",
       "11    ita  11.000000\n",
       "9   greek  11.225000\n",
       "13    rom  11.250000\n",
       "17    swe  11.308824\n",
       "12    pol  11.720000\n",
       "4   dutch  11.761111\n",
       "0     als  12.500000\n",
       "3     cal  16.614634\n",
       "14    rus  17.485849\n",
       "2    bash  18.666667\n",
       "1      am  18.975000\n",
       "19      u  21.500000\n",
       "7     ger  21.592643\n",
       "16   span  23.200000\n",
       "10    hun  23.216216\n",
       "5     eng  24.589862\n",
       "15  shake  38.729730\n",
       "8   gersh  39.394737"
      ]
     },
     "execution_count": 19,
     "metadata": {},
     "output_type": "execute_result"
    }
   ],
   "source": [
    "speaker_mean_df.sort_values(by=\"mean\")"
   ]
  },
  {
   "cell_type": "markdown",
   "id": "12d745b7-f956-4b32-8c70-0d2da8c550f7",
   "metadata": {},
   "source": [
    "## Medium Questions: Corpus Range, Female Speakers"
   ]
  },
  {
   "cell_type": "markdown",
   "id": "379eb396-2089-4ff6-bb25-b68e0b7b3fb7",
   "metadata": {},
   "source": [
    "#### Which corpus covers the widest time range?\n"
   ]
  },
  {
   "cell_type": "code",
   "execution_count": 8,
   "id": "760a94a2-f923-4aa1-b3fc-1c0ccbc34924",
   "metadata": {},
   "outputs": [],
   "source": [
    "corpus_min_max = {\"name\": [], \"min\":[], \"max\":[]}\n",
    "for entry in corpora_meta:\n",
    "    name = entry[\"name\"]\n",
    "    metadata_url = f\"https://dracor.org/api/v1/corpora/{name}/metadata\"\n",
    "    response = requests.get(metadata_url)\n",
    "    metadata_df = pd.DataFrame(response.json())\n",
    "    corpus_min_max[\"name\"].append(name)\n",
    "    corpus_min_max[\"min\"].append(metadata_df.yearNormalized.min())\n",
    "    corpus_min_max[\"max\"].append(metadata_df.yearNormalized.max())"
   ]
  },
  {
   "cell_type": "code",
   "execution_count": 9,
   "id": "adc259ca-5e47-4e3e-adb1-3b5e2a291c8a",
   "metadata": {},
   "outputs": [
    {
     "data": {
      "text/html": [
       "<div>\n",
       "<style scoped>\n",
       "    .dataframe tbody tr th:only-of-type {\n",
       "        vertical-align: middle;\n",
       "    }\n",
       "\n",
       "    .dataframe tbody tr th {\n",
       "        vertical-align: top;\n",
       "    }\n",
       "\n",
       "    .dataframe thead th {\n",
       "        text-align: right;\n",
       "    }\n",
       "</style>\n",
       "<table border=\"1\" class=\"dataframe\">\n",
       "  <thead>\n",
       "    <tr style=\"text-align: right;\">\n",
       "      <th></th>\n",
       "      <th>name</th>\n",
       "      <th>min</th>\n",
       "      <th>max</th>\n",
       "      <th>distance</th>\n",
       "    </tr>\n",
       "  </thead>\n",
       "  <tbody>\n",
       "    <tr>\n",
       "      <th>6</th>\n",
       "      <td>fre</td>\n",
       "      <td>1170.0</td>\n",
       "      <td>2017.0</td>\n",
       "      <td>847.0</td>\n",
       "    </tr>\n",
       "  </tbody>\n",
       "</table>\n",
       "</div>"
      ],
      "text/plain": [
       "  name     min     max  distance\n",
       "6  fre  1170.0  2017.0     847.0"
      ]
     },
     "execution_count": 9,
     "metadata": {},
     "output_type": "execute_result"
    }
   ],
   "source": [
    "corpus_min_max_df = pd.DataFrame(corpus_min_max) \n",
    "corpus_min_max_df[\"distance\"] = corpus_min_max_df[\"max\"] - corpus_min_max_df[\"min\"]\n",
    "corpus_min_max_df[corpus_min_max_df[\"distance\"] == corpus_min_max_df[\"distance\"].max()]"
   ]
  },
  {
   "cell_type": "code",
   "execution_count": 10,
   "id": "15fbbcb0-448f-460c-8994-b1f72c615150",
   "metadata": {},
   "outputs": [
    {
     "data": {
      "text/html": [
       "<div>\n",
       "<style scoped>\n",
       "    .dataframe tbody tr th:only-of-type {\n",
       "        vertical-align: middle;\n",
       "    }\n",
       "\n",
       "    .dataframe tbody tr th {\n",
       "        vertical-align: top;\n",
       "    }\n",
       "\n",
       "    .dataframe thead th {\n",
       "        text-align: right;\n",
       "    }\n",
       "</style>\n",
       "<table border=\"1\" class=\"dataframe\">\n",
       "  <thead>\n",
       "    <tr style=\"text-align: right;\">\n",
       "      <th></th>\n",
       "      <th>name</th>\n",
       "      <th>min</th>\n",
       "      <th>max</th>\n",
       "      <th>distance</th>\n",
       "    </tr>\n",
       "  </thead>\n",
       "  <tbody>\n",
       "    <tr>\n",
       "      <th>18</th>\n",
       "      <td>tat</td>\n",
       "      <td>1908.0</td>\n",
       "      <td>1912.0</td>\n",
       "      <td>4.0</td>\n",
       "    </tr>\n",
       "    <tr>\n",
       "      <th>20</th>\n",
       "      <td>yi</td>\n",
       "      <td>1907.0</td>\n",
       "      <td>1918.0</td>\n",
       "      <td>11.0</td>\n",
       "    </tr>\n",
       "    <tr>\n",
       "      <th>17</th>\n",
       "      <td>swe</td>\n",
       "      <td>1880.0</td>\n",
       "      <td>1900.0</td>\n",
       "      <td>20.0</td>\n",
       "    </tr>\n",
       "    <tr>\n",
       "      <th>15</th>\n",
       "      <td>shake</td>\n",
       "      <td>1591.0</td>\n",
       "      <td>1613.0</td>\n",
       "      <td>22.0</td>\n",
       "    </tr>\n",
       "    <tr>\n",
       "      <th>2</th>\n",
       "      <td>bash</td>\n",
       "      <td>1917.0</td>\n",
       "      <td>1975.0</td>\n",
       "      <td>58.0</td>\n",
       "    </tr>\n",
       "    <tr>\n",
       "      <th>16</th>\n",
       "      <td>span</td>\n",
       "      <td>1878.0</td>\n",
       "      <td>1945.0</td>\n",
       "      <td>67.0</td>\n",
       "    </tr>\n",
       "    <tr>\n",
       "      <th>8</th>\n",
       "      <td>gersh</td>\n",
       "      <td>1797.0</td>\n",
       "      <td>1890.0</td>\n",
       "      <td>93.0</td>\n",
       "    </tr>\n",
       "    <tr>\n",
       "      <th>5</th>\n",
       "      <td>eng</td>\n",
       "      <td>1552.0</td>\n",
       "      <td>1657.0</td>\n",
       "      <td>105.0</td>\n",
       "    </tr>\n",
       "    <tr>\n",
       "      <th>19</th>\n",
       "      <td>u</td>\n",
       "      <td>1813.0</td>\n",
       "      <td>1924.0</td>\n",
       "      <td>111.0</td>\n",
       "    </tr>\n",
       "    <tr>\n",
       "      <th>0</th>\n",
       "      <td>als</td>\n",
       "      <td>1816.0</td>\n",
       "      <td>1937.0</td>\n",
       "      <td>121.0</td>\n",
       "    </tr>\n",
       "    <tr>\n",
       "      <th>3</th>\n",
       "      <td>cal</td>\n",
       "      <td>1623.0</td>\n",
       "      <td>1760.0</td>\n",
       "      <td>137.0</td>\n",
       "    </tr>\n",
       "    <tr>\n",
       "      <th>9</th>\n",
       "      <td>greek</td>\n",
       "      <td>-472.0</td>\n",
       "      <td>-316.0</td>\n",
       "      <td>156.0</td>\n",
       "    </tr>\n",
       "    <tr>\n",
       "      <th>12</th>\n",
       "      <td>pol</td>\n",
       "      <td>1773.0</td>\n",
       "      <td>1939.0</td>\n",
       "      <td>166.0</td>\n",
       "    </tr>\n",
       "    <tr>\n",
       "      <th>1</th>\n",
       "      <td>am</td>\n",
       "      <td>1765.0</td>\n",
       "      <td>1949.0</td>\n",
       "      <td>184.0</td>\n",
       "    </tr>\n",
       "    <tr>\n",
       "      <th>14</th>\n",
       "      <td>rus</td>\n",
       "      <td>1747.0</td>\n",
       "      <td>1947.0</td>\n",
       "      <td>200.0</td>\n",
       "    </tr>\n",
       "    <tr>\n",
       "      <th>4</th>\n",
       "      <td>dutch</td>\n",
       "      <td>1539.0</td>\n",
       "      <td>1786.0</td>\n",
       "      <td>247.0</td>\n",
       "    </tr>\n",
       "    <tr>\n",
       "      <th>13</th>\n",
       "      <td>rom</td>\n",
       "      <td>-215.0</td>\n",
       "      <td>96.0</td>\n",
       "      <td>311.0</td>\n",
       "    </tr>\n",
       "    <tr>\n",
       "      <th>10</th>\n",
       "      <td>hun</td>\n",
       "      <td>1558.0</td>\n",
       "      <td>1978.0</td>\n",
       "      <td>420.0</td>\n",
       "    </tr>\n",
       "    <tr>\n",
       "      <th>7</th>\n",
       "      <td>ger</td>\n",
       "      <td>1510.0</td>\n",
       "      <td>1947.0</td>\n",
       "      <td>437.0</td>\n",
       "    </tr>\n",
       "    <tr>\n",
       "      <th>11</th>\n",
       "      <td>ita</td>\n",
       "      <td>1449.0</td>\n",
       "      <td>1933.0</td>\n",
       "      <td>484.0</td>\n",
       "    </tr>\n",
       "    <tr>\n",
       "      <th>6</th>\n",
       "      <td>fre</td>\n",
       "      <td>1170.0</td>\n",
       "      <td>2017.0</td>\n",
       "      <td>847.0</td>\n",
       "    </tr>\n",
       "  </tbody>\n",
       "</table>\n",
       "</div>"
      ],
      "text/plain": [
       "     name     min     max  distance\n",
       "18    tat  1908.0  1912.0       4.0\n",
       "20     yi  1907.0  1918.0      11.0\n",
       "17    swe  1880.0  1900.0      20.0\n",
       "15  shake  1591.0  1613.0      22.0\n",
       "2    bash  1917.0  1975.0      58.0\n",
       "16   span  1878.0  1945.0      67.0\n",
       "8   gersh  1797.0  1890.0      93.0\n",
       "5     eng  1552.0  1657.0     105.0\n",
       "19      u  1813.0  1924.0     111.0\n",
       "0     als  1816.0  1937.0     121.0\n",
       "3     cal  1623.0  1760.0     137.0\n",
       "9   greek  -472.0  -316.0     156.0\n",
       "12    pol  1773.0  1939.0     166.0\n",
       "1      am  1765.0  1949.0     184.0\n",
       "14    rus  1747.0  1947.0     200.0\n",
       "4   dutch  1539.0  1786.0     247.0\n",
       "13    rom  -215.0    96.0     311.0\n",
       "10    hun  1558.0  1978.0     420.0\n",
       "7     ger  1510.0  1947.0     437.0\n",
       "11    ita  1449.0  1933.0     484.0\n",
       "6     fre  1170.0  2017.0     847.0"
      ]
     },
     "execution_count": 10,
     "metadata": {},
     "output_type": "execute_result"
    }
   ],
   "source": [
    "corpus_min_max_df.sort_values(by=\"distance\")"
   ]
  },
  {
   "cell_type": "markdown",
   "id": "09d22866-b9fa-4101-8664-9e381a18ec3d",
   "metadata": {},
   "source": [
    "#### How does the percentage of female speakers in German drama change over time?\n"
   ]
  },
  {
   "cell_type": "code",
   "execution_count": 23,
   "id": "bb434a5e-a25b-4a7f-8c23-3197ebf02e87",
   "metadata": {},
   "outputs": [
    {
     "data": {
      "text/plain": [
       "<seaborn.axisgrid.FacetGrid at 0x10c86d310>"
      ]
     },
     "execution_count": 23,
     "metadata": {},
     "output_type": "execute_result"
    },
    {
     "data": {
      "image/png": "[encoded data removed]",
      "text/plain": [
       "<Figure size 500x500 with 1 Axes>"
      ]
     },
     "metadata": {},
     "output_type": "display_data"
    }
   ],
   "source": [
    "ger_df[\"female_percentage\"] = ger_df[\"numOfSpeakersFemale\"] / ger_df[\"numOfSpeakers\"]\n",
    "sns.lmplot(x='yearNormalized',y='female_percentage',data=ger_df,fit_reg=True) "
   ]
  },
  {
   "cell_type": "markdown",
   "id": "c2d2dab3-7cd1-422e-ab99-2ab95e134f98",
   "metadata": {},
   "source": [
    "#### How does the mean percentage of female speakers in Swedish drama change over time?\n",
    "* How does the gender distribution in Swedish drama change over time?"
   ]
  },
  {
   "cell_type": "code",
   "execution_count": 24,
   "id": "d6697254-daca-499f-b7df-4123567f8a1b",
   "metadata": {},
   "outputs": [],
   "source": [
    "swe_df = get_corpus_metadata_df(\"swe\")"
   ]
  },
  {
   "cell_type": "code",
   "execution_count": 25,
   "id": "6e5a9615-3690-4a15-aa25-0f8a9153611a",
   "metadata": {},
   "outputs": [
    {
     "data": {
      "text/plain": [
       "<seaborn.axisgrid.FacetGrid at 0x10c99d610>"
      ]
     },
     "execution_count": 25,
     "metadata": {},
     "output_type": "execute_result"
    },
    {
     "data": {
      "image/png": "[encoded data removed]",
      "text/plain": [
       "<Figure size 500x500 with 1 Axes>"
      ]
     },
     "metadata": {},
     "output_type": "display_data"
    }
   ],
   "source": [
    "swe_df[\"female_percentage\"] = swe_df[\"numOfSpeakersFemale\"] / swe_df[\"numOfSpeakers\"]\n",
    "sns.lmplot(x='yearNormalized',y='female_percentage',data=swe_df,fit_reg=True) "
   ]
  },
  {
   "cell_type": "markdown",
   "id": "8d669849-53a1-4e18-b23f-0d47ce300572",
   "metadata": {},
   "source": [
    "#### How does the percentage of female speakers in a ItaDraCor change over time?\n"
   ]
  },
  {
   "cell_type": "code",
   "execution_count": 26,
   "id": "187344d3-aa8b-4b50-9bdc-3bd1da388475",
   "metadata": {},
   "outputs": [],
   "source": [
    "ita_df = get_corpus_metadata_df(\"ita\")"
   ]
  },
  {
   "cell_type": "code",
   "execution_count": 27,
   "id": "f5ac0f0a-b9d3-4a2b-b43d-238965e8e900",
   "metadata": {},
   "outputs": [
    {
     "data": {
      "text/plain": [
       "<seaborn.axisgrid.FacetGrid at 0x10c9b3b00>"
      ]
     },
     "execution_count": 27,
     "metadata": {},
     "output_type": "execute_result"
    },
    {
     "data": {
      "image/png": "[encoded data removed]",
      "text/plain": [
       "<Figure size 500x500 with 1 Axes>"
      ]
     },
     "metadata": {},
     "output_type": "display_data"
    }
   ],
   "source": [
    "ita_df[\"female_percentage\"] = ita_df[\"numOfSpeakersFemale\"] / ita_df[\"numOfSpeakers\"]\n",
    "sns.lmplot(x='yearNormalized',y='female_percentage',data=ita_df,fit_reg=True) "
   ]
  },
  {
   "cell_type": "code",
   "execution_count": 29,
   "id": "00f7b6e3-125a-4f30-b079-71a75fa54f36",
   "metadata": {},
   "outputs": [],
   "source": [
    "def get_century(year):\n",
    "    year = year + 100\n",
    "    year = str(year)\n",
    "    century = year[:2] + \"th\"\n",
    "    return century"
   ]
  },
  {
   "cell_type": "code",
   "execution_count": 32,
   "id": "93420ac0-b888-455b-8727-250c469e0f7c",
   "metadata": {},
   "outputs": [],
   "source": [
    "ita_df[\"century\"] = ita_df.yearNormalized.apply(lambda x: get_century(x))"
   ]
  },
  {
   "cell_type": "code",
   "execution_count": 33,
   "id": "f644dfb9-4a83-4338-9c96-3ff301d8eecd",
   "metadata": {},
   "outputs": [
    {
     "data": {
      "text/plain": [
       "<Axes: xlabel='century'>"
      ]
     },
     "execution_count": 33,
     "metadata": {},
     "output_type": "execute_result"
    },
    {
     "data": {
      "image/png": "[encoded data removed]",
      "text/plain": [
       "<Figure size 800x600 with 1 Axes>"
      ]
     },
     "metadata": {},
     "output_type": "display_data"
    }
   ],
   "source": [
    "ita_df.groupby(\"century\")[\"female_percentage\"].mean().plot(kind=\"bar\", figsize=(8,6))"
   ]
  },
  {
   "cell_type": "markdown",
   "id": "8b35c8c2-1133-47a0-b99f-f7758709d960",
   "metadata": {},
   "source": [
    "## Hard Questions: Protagonist "
   ]
  },
  {
   "cell_type": "code",
   "execution_count": 36,
   "id": "dd9b366d-eb5f-4190-aca8-baa55b175927",
   "metadata": {},
   "outputs": [],
   "source": [
    "def get_protagonist_data(metadata_df):\n",
    "    protagonist_columns = [\"numOfScenes\", \"numOfSpeechActs\", \"numOfWords\", \"degree\", \"weightedDegree\",\n",
    "                           \"eigenvector\", \"closeness\", \"betweenness\"]\n",
    "    protagonist_data = {}\n",
    "    for column in protagonist_columns:\n",
    "        protagonist_data[column] = [metadata_df[metadata_df[column] == metadata_df[column].max()].id.values[0]]\n",
    "    protagonist_df = pd.DataFrame(protagonist_data)\n",
    "    return protagonist_df"
   ]
  },
  {
   "cell_type": "markdown",
   "id": "f4fa1660-6d5a-445b-889e-6b0f4907281d",
   "metadata": {},
   "source": [
    "### Who is the most important character in Emilia Galotti?\n",
    "Other formulations:\n",
    "* Who is the protagonist in Emilia Galotti?\n",
    "* Which character is quantitatively most dominant in Emilia Galotti?"
   ]
  },
  {
   "cell_type": "code",
   "execution_count": 37,
   "id": "931f6e65-692c-4059-b9c7-24248be7559a",
   "metadata": {},
   "outputs": [],
   "source": [
    "corpus = \"ger\"\n",
    "play = \"lessing-emilia-galotti\"\n",
    "metadata_url = f\"https://dracor.org/api/v1/corpora/{corpus}/plays/{play}/characters\"\n",
    "response = requests.get(metadata_url)\n",
    "metadata_emilia_df = pd.DataFrame(response.json())"
   ]
  },
  {
   "cell_type": "code",
   "execution_count": 38,
   "id": "15735936-93d2-44ba-8990-ba47367f9cf7",
   "metadata": {},
   "outputs": [
    {
     "data": {
      "text/html": [
       "<div>\n",
       "<style scoped>\n",
       "    .dataframe tbody tr th:only-of-type {\n",
       "        vertical-align: middle;\n",
       "    }\n",
       "\n",
       "    .dataframe tbody tr th {\n",
       "        vertical-align: top;\n",
       "    }\n",
       "\n",
       "    .dataframe thead th {\n",
       "        text-align: right;\n",
       "    }\n",
       "</style>\n",
       "<table border=\"1\" class=\"dataframe\">\n",
       "  <thead>\n",
       "    <tr style=\"text-align: right;\">\n",
       "      <th></th>\n",
       "      <th>numOfScenes</th>\n",
       "      <th>numOfSpeechActs</th>\n",
       "      <th>numOfWords</th>\n",
       "      <th>degree</th>\n",
       "      <th>weightedDegree</th>\n",
       "      <th>eigenvector</th>\n",
       "      <th>closeness</th>\n",
       "      <th>betweenness</th>\n",
       "    </tr>\n",
       "  </thead>\n",
       "  <tbody>\n",
       "    <tr>\n",
       "      <th>0</th>\n",
       "      <td>marinelli</td>\n",
       "      <td>marinelli</td>\n",
       "      <td>marinelli</td>\n",
       "      <td>marinelli</td>\n",
       "      <td>marinelli</td>\n",
       "      <td>marinelli</td>\n",
       "      <td>marinelli</td>\n",
       "      <td>der_prinz</td>\n",
       "    </tr>\n",
       "  </tbody>\n",
       "</table>\n",
       "</div>"
      ],
      "text/plain": [
       "  numOfScenes numOfSpeechActs numOfWords     degree weightedDegree  \\\n",
       "0   marinelli       marinelli  marinelli  marinelli      marinelli   \n",
       "\n",
       "  eigenvector  closeness betweenness  \n",
       "0   marinelli  marinelli   der_prinz  "
      ]
     },
     "execution_count": 38,
     "metadata": {},
     "output_type": "execute_result"
    }
   ],
   "source": [
    "protagonist_emilia_df = get_protagonist_data(metadata_emilia_df)\n",
    "protagonist_emilia_df"
   ]
  },
  {
   "cell_type": "markdown",
   "id": "60ad8c4b-9a54-46e3-b9c9-114f1af15ffe",
   "metadata": {},
   "source": [
    "### Who is the protagonist in Die entführte Dose?"
   ]
  },
  {
   "cell_type": "code",
   "execution_count": 39,
   "id": "1885d2b5-f0ed-449b-aedb-f9cf6abbc201",
   "metadata": {},
   "outputs": [],
   "source": [
    "corpus = \"ger\"\n",
    "play = \"schlegel-die-entfuehrte-dose\"\n",
    "metadata_url = f\"https://dracor.org/api/v1/corpora/{corpus}/plays/{play}/characters\"\n",
    "response = requests.get(metadata_url)\n",
    "metadata_dose_df = pd.DataFrame(response.json())"
   ]
  },
  {
   "cell_type": "code",
   "execution_count": 40,
   "id": "edc51245-0e90-4c7c-9aea-c605b8df77f9",
   "metadata": {},
   "outputs": [
    {
     "data": {
      "text/html": [
       "<div>\n",
       "<style scoped>\n",
       "    .dataframe tbody tr th:only-of-type {\n",
       "        vertical-align: middle;\n",
       "    }\n",
       "\n",
       "    .dataframe tbody tr th {\n",
       "        vertical-align: top;\n",
       "    }\n",
       "\n",
       "    .dataframe thead th {\n",
       "        text-align: right;\n",
       "    }\n",
       "</style>\n",
       "<table border=\"1\" class=\"dataframe\">\n",
       "  <thead>\n",
       "    <tr style=\"text-align: right;\">\n",
       "      <th></th>\n",
       "      <th>numOfScenes</th>\n",
       "      <th>numOfSpeechActs</th>\n",
       "      <th>numOfWords</th>\n",
       "      <th>degree</th>\n",
       "      <th>weightedDegree</th>\n",
       "      <th>eigenvector</th>\n",
       "      <th>closeness</th>\n",
       "      <th>betweenness</th>\n",
       "    </tr>\n",
       "  </thead>\n",
       "  <tbody>\n",
       "    <tr>\n",
       "      <th>0</th>\n",
       "      <td>foppendorf</td>\n",
       "      <td>foppendorf</td>\n",
       "      <td>foppendorf</td>\n",
       "      <td>foppendorf</td>\n",
       "      <td>foppendorf</td>\n",
       "      <td>foppendorf</td>\n",
       "      <td>foppendorf</td>\n",
       "      <td>foppendorf</td>\n",
       "    </tr>\n",
       "  </tbody>\n",
       "</table>\n",
       "</div>"
      ],
      "text/plain": [
       "  numOfScenes numOfSpeechActs  numOfWords      degree weightedDegree  \\\n",
       "0  foppendorf      foppendorf  foppendorf  foppendorf     foppendorf   \n",
       "\n",
       "  eigenvector   closeness betweenness  \n",
       "0  foppendorf  foppendorf  foppendorf  "
      ]
     },
     "execution_count": 40,
     "metadata": {},
     "output_type": "execute_result"
    }
   ],
   "source": [
    "protagonist_dose_df = get_protagonist_data(metadata_dose_df)\n",
    "protagonist_dose_df"
   ]
  }
 ],
 "metadata": {
  "kernelspec": {
   "display_name": "Python 3 (ipykernel)",
   "language": "python",
   "name": "python3"
  },
  "language_info": {
   "codemirror_mode": {
    "name": "ipython",
    "version": 3
   },
   "file_extension": ".py",
   "mimetype": "text/x-python",
   "name": "python",
   "nbconvert_exporter": "python",
   "pygments_lexer": "ipython3",
   "version": "3.12.8"
  }
 },
 "nbformat": 4,
 "nbformat_minor": 5
}
